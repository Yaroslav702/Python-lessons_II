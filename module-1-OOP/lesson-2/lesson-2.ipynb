{
 "cells": [
  {
   "cell_type": "code",
   "execution_count": 1,
   "metadata": {},
   "outputs": [
    {
     "data": {
      "text/plain": [
       "False"
      ]
     },
     "execution_count": 1,
     "metadata": {},
     "output_type": "execute_result"
    }
   ],
   "source": [
    "from collections import UserDict\n",
    "\n",
    "\n",
    "class ValueSearch(UserDict):\n",
    "    def has_in_values(self, value):\n",
    "        return value in self.data.values()\n",
    "\n",
    "\n",
    "as_dict = ValueSearch()\n",
    "as_dict['a'] = 1\n",
    "as_dict.has_in_values(1)    # True\n",
    "as_dict.has_in_values(2)    # False"
   ]
  },
  {
   "cell_type": "code",
   "execution_count": 2,
   "metadata": {},
   "outputs": [
    {
     "data": {
      "text/plain": [
       "15"
      ]
     },
     "execution_count": 2,
     "metadata": {},
     "output_type": "execute_result"
    }
   ],
   "source": [
    "from collections import UserList\n",
    "\n",
    "class CountableList(UserList):\n",
    "    def sum(self):\n",
    "        return sum(map(lambda x: int(x), self.data))\n",
    "\n",
    "\n",
    "countable = CountableList([1, '2', 3, '4'])\n",
    "countable.append('5')\n",
    "countable.sum()     # 15"
   ]
  },
  {
   "cell_type": "code",
   "execution_count": 6,
   "metadata": {},
   "outputs": [
    {
     "name": "stdout",
     "output_type": "stream",
     "text": [
      "Ivanov\n",
      "Ivanova\n",
      "Petrov\n",
      "best student is Ivanova rating: 202\n",
      "Student not found\n"
     ]
    }
   ],
   "source": [
    "class Human:\n",
    "    first_name = ''\n",
    "    last_name = ''\n",
    "    gender = None\n",
    "\n",
    "\n",
    "class Student(Human):\n",
    "    age = 0\n",
    "    city = ''\n",
    "    score = 0\n",
    "\n",
    "    def set_score(self, new_score):\n",
    "        self.score = new_score\n",
    "\n",
    "class StudentNotFound(Exception):\n",
    "    error_code = 404\n",
    "    error_message = 'Student not found'\n",
    "\n",
    "class Group:\n",
    "    title = ''\n",
    "    course = ''\n",
    "    students = list()\n",
    "\n",
    "    def print_students(self):\n",
    "        for current_student in self.students:\n",
    "            print(current_student.last_name)\n",
    "\n",
    "    def add_student(self, new_student):\n",
    "        self.students.append(new_student)\n",
    "\n",
    "\n",
    "    def get_best_student(self):\n",
    "        best_student = self.students[0]\n",
    "\n",
    "        for current_student in self.students:\n",
    "            if current_student.score > best_student.score: \n",
    "                best_student = current_student\n",
    "        \n",
    "        return best_student\n",
    "\n",
    "    def find_student(self, last_name, first_name):\n",
    "        for current_student in self.students:\n",
    "            if current_student.first_name == first_name and current_student.last_name == last_name:\n",
    "                return current_student\n",
    "\n",
    "        raise StudentNotFound\n",
    "\n",
    "\n",
    "student_Ivanov = Student()\n",
    "student_Ivanov.age = 17\n",
    "student_Ivanov.city = 'Kyiv'\n",
    "student_Ivanov.gender = 'Male'\n",
    "student_Ivanov.last_name = 'Ivanov'\n",
    "student_Ivanov.first_name = 'Ivan'\n",
    "student_Ivanov.score = 165\n",
    "\n",
    "\n",
    "student_Petrov = Student()\n",
    "student_Petrov.age = 19\n",
    "student_Petrov.city = 'Kyiv'\n",
    "student_Petrov.gender = 'Male'\n",
    "student_Petrov.last_name = 'Petrov'\n",
    "student_Petrov.first_name = 'Petya'\n",
    "student_Petrov.score = 189\n",
    "\n",
    "\n",
    "student_Ivanova = Student()\n",
    "student_Ivanova.age = 17\n",
    "student_Ivanova.city = 'Kyiv'\n",
    "student_Ivanova.gender = 'Female'\n",
    "student_Ivanova.last_name = 'Ivanova'\n",
    "student_Ivanova.first_name = 'Ivanna'\n",
    "student_Ivanova.score = 202\n",
    "\n",
    "\n",
    "\n",
    "group = Group()\n",
    "group.title = 'UA_Python_1y_2'\n",
    "group.course = 'Python'\n",
    "group.add_student(student_Ivanov)\n",
    "group.add_student(student_Ivanova)\n",
    "group.add_student(student_Petrov)\n",
    "\n",
    "group.print_students()\n",
    "best_st = group.get_best_student()\n",
    "print('best student is', best_st.last_name, 'rating:', best_st.score)\n",
    "\n",
    "\n",
    "try:\n",
    "    search_st = group.find_student('Petrov', 'Ivan')\n",
    "    print(search_st.city)\n",
    "except StudentNotFound as error:\n",
    "    print(error.error_message)"
   ]
  },
  {
   "cell_type": "code",
   "execution_count": 4,
   "metadata": {},
   "outputs": [
    {
     "name": "stdout",
     "output_type": "stream",
     "text": [
      "\"sdg\" is not a number. Try again\n",
      "\"sdfdsf\" is not a number. Try again\n",
      "\"fff\" is not a number. Try again\n",
      "\"fff\" is not a number. Try again\n"
     ]
    }
   ],
   "source": [
    "def input_number():\n",
    "    while True:\n",
    "        try:\n",
    "            num = input(\"Enter integer number: \")\n",
    "            return int(num)\n",
    "        except:\n",
    "            print(f'\"{num}\" is not a number. Try again')\n",
    "\n",
    "\n",
    "num = input_number()"
   ]
  },
  {
   "cell_type": "code",
   "execution_count": null,
   "metadata": {},
   "outputs": [],
   "source": [
    "import string\n",
    "\n",
    "\n",
    "class NameTooShortError(Exception):\n",
    "    pass\n",
    "\n",
    "\n",
    "class NameStartsFromLowError(Exception):\n",
    "    pass\n",
    "\n",
    "\n",
    "def enter_name():\n",
    "    name = input(\"Enter name: \")\n",
    "    if len(name) < 3:\n",
    "        raise NameTooShortError\n",
    "    if name[0] not in string.ascii_uppercase:\n",
    "        raise NameStartsFromLowError\n",
    "\n",
    "\n",
    "\n",
    "while True:\n",
    "    try:\n",
    "        name = enter_name()\n",
    "        break\n",
    "    except NameTooShortError:\n",
    "        print('Name is too short, need more than 3 symbols. Try again.')\n",
    "    except NameStartsFromLowError:\n",
    "        print('Name should start from capital letter. Try again.')"
   ]
  }
 ],
 "metadata": {
  "interpreter": {
   "hash": "38740d3277777e2cd7c6c2cc9d8addf5118fdf3f82b1b39231fd12aeac8aee8b"
  },
  "kernelspec": {
   "display_name": "Python 3.10.1 64-bit",
   "language": "python",
   "name": "python3"
  },
  "language_info": {
   "codemirror_mode": {
    "name": "ipython",
    "version": 3
   },
   "file_extension": ".py",
   "mimetype": "text/x-python",
   "name": "python",
   "nbconvert_exporter": "python",
   "pygments_lexer": "ipython3",
   "version": "3.10.1"
  },
  "orig_nbformat": 4
 },
 "nbformat": 4,
 "nbformat_minor": 2
}
