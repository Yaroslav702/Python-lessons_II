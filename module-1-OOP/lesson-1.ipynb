{
 "cells": [
  {
   "cell_type": "code",
   "execution_count": 1,
   "metadata": {},
   "outputs": [],
   "source": [
    "class User:\n",
    "    login = 'UserName'\n",
    "    password = 'qwerty'\n",
    "    role = 'operator'"
   ]
  },
  {
   "cell_type": "code",
   "execution_count": 5,
   "metadata": {},
   "outputs": [
    {
     "name": "stdout",
     "output_type": "stream",
     "text": [
      "TEST\n"
     ]
    }
   ],
   "source": [
    "class User:\n",
    "    login = ''\n",
    "    password = ''\n",
    "\n",
    "user1 = User()\n",
    "user1.login = 'yaroslav.vysotskyi'\n",
    "user1.password = '123123'\n",
    "\n",
    "user2 = User()\n",
    "user2.login = 'user2'\n",
    "user2.password = 'qwerty'\n",
    "\n",
    "user1 = user2\n",
    "user1.login = 'TEST'\n",
    "\n",
    "print(user1.login)"
   ]
  },
  {
   "cell_type": "code",
   "execution_count": 9,
   "metadata": {},
   "outputs": [
    {
     "name": "stdout",
     "output_type": "stream",
     "text": [
      "login:  yaroslav_vysotskyi , role:  operator\n"
     ]
    }
   ],
   "source": [
    "class User:\n",
    "    login = ''\n",
    "    password = ''\n",
    "    role = 'operator'\n",
    "    \n",
    "    def set_login(self, new_login):\n",
    "        self.login = new_login\n",
    "\n",
    "    def change_password(self, new_password):\n",
    "        self.password = new_password\n",
    "\n",
    "    def get_role(self):\n",
    "        return self.role\n",
    "\n",
    "    def print_info(self):\n",
    "        print('login: ', self.login, ', role: ', self.role)\n",
    "\n",
    "\n",
    "vysotskyi = User()\n",
    "vysotskyi.set_login('yaroslav_vysotskyi')\n",
    "vysotskyi.change_password('1287421987')\n",
    "\n",
    "#print(vysotskyi.get_role())\n",
    "#print(vysotskyi.login)\n",
    "\n",
    "vysotskyi.print_info()"
   ]
  },
  {
   "cell_type": "code",
   "execution_count": 12,
   "metadata": {},
   "outputs": [
    {
     "name": "stdout",
     "output_type": "stream",
     "text": [
      "Yaroslav, VS Code\n"
     ]
    }
   ],
   "source": [
    "class Human:\n",
    "    name = ''\n",
    "    age = 15\n",
    "    sex = 'male'\n",
    "\n",
    "\n",
    "class Developer(Human):\n",
    "    language = ''\n",
    "    IDE = ''\n",
    "    company = ''\n",
    "\n",
    "class PythonDeveloper(Developer):\n",
    "    python_area = list()\n",
    "    language = 'Python'\n",
    "\n",
    "    def print_developer_info(self):\n",
    "        print(f'{self.name}, {self.IDE}')\n",
    "\n",
    "Vysotskyi = PythonDeveloper()\n",
    "Vysotskyi.language = 'Python'\n",
    "Vysotskyi.IDE = 'VS Code'\n",
    "Vysotskyi.python_area.append('core')\n",
    "Vysotskyi.age = 15\n",
    "Vysotskyi.name = 'Yaroslav'\n",
    "\n",
    "Vysotskyi.print_developer_info()"
   ]
  },
  {
   "cell_type": "code",
   "execution_count": null,
   "metadata": {},
   "outputs": [],
   "source": [
    "class A:\n",
    "    x = 'I am A class'\n",
    "\n",
    "\n",
    "class B:\n",
    "    x = 'I am B class'\n",
    "    y = 'I exist only in B'\n",
    "\n",
    "\n",
    "class C(A, B):\n",
    "    z = \"This exists only in C\"\n",
    "\n",
    "\n",
    "c = C()\n",
    "print(c.z)  # This exists only in C\n",
    "print(c.y)  # I exist only in B\n",
    "print(c.x)  # I am A class"
   ]
  }
 ],
 "metadata": {
  "interpreter": {
   "hash": "38740d3277777e2cd7c6c2cc9d8addf5118fdf3f82b1b39231fd12aeac8aee8b"
  },
  "kernelspec": {
   "display_name": "Python 3.10.1 64-bit",
   "language": "python",
   "name": "python3"
  },
  "language_info": {
   "codemirror_mode": {
    "name": "ipython",
    "version": 3
   },
   "file_extension": ".py",
   "mimetype": "text/x-python",
   "name": "python",
   "nbconvert_exporter": "python",
   "pygments_lexer": "ipython3",
   "version": "3.10.1"
  },
  "orig_nbformat": 4
 },
 "nbformat": 4,
 "nbformat_minor": 2
}
