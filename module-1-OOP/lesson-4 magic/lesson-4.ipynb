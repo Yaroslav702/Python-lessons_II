{
 "cells": [
  {
   "cell_type": "code",
   "execution_count": null,
   "metadata": {},
   "outputs": [],
   "source": [
    "class Human:\n",
    "    def __init__(self, name, age=10):\n",
    "        self.name = name\n",
    "        self.age = age\n",
    "\n",
    "    def say_hello(self):\n",
    "        return f'Hello! I am {self.name}'\n",
    "\n",
    "\n",
    "bill = Human('Bill')\n",
    "print(bill.say_hello())  # Hello! I am Bill\n",
    "print(bill.age)          # 10\n",
    "\n",
    "jill = Human('Jill', 20)\n",
    "print(jill.say_hello())  # Hello! I am Jill\n",
    "print(jill.age)          # 20"
   ]
  },
  {
   "cell_type": "code",
   "execution_count": 8,
   "metadata": {},
   "outputs": [
    {
     "data": {
      "text/plain": [
       "Point (x: 1; y: 9)"
      ]
     },
     "execution_count": 8,
     "metadata": {},
     "output_type": "execute_result"
    }
   ],
   "source": [
    "class Point:\n",
    "    def __init__(self, x, y):\n",
    "        self.x = x\n",
    "        self.y = y\n",
    "\n",
    "    def __repr__(self):\n",
    "        return f'Point (x: {self.x}; y: {self.y})'\n",
    "\n",
    "a = Point(1, 9)\n",
    "a\n"
   ]
  },
  {
   "cell_type": "code",
   "execution_count": null,
   "metadata": {},
   "outputs": [],
   "source": [
    "class Human:\n",
    "    def __init__(self, name, age=0):\n",
    "        self.name = name\n",
    "        self.age = age\n",
    "\n",
    "    def __str__(self):\n",
    "        return f'Hello! I am {self.name}'\n",
    "\n",
    "\n",
    "bill = Human('Bill')\n",
    "bill_str = str(bill)\n",
    "print(bill_str)  # Hello! I am Bill"
   ]
  },
  {
   "cell_type": "code",
   "execution_count": null,
   "metadata": {},
   "outputs": [],
   "source": [
    "class ListedValuesDict:\n",
    "    def __init__(self):\n",
    "        self.data = {}\n",
    "\n",
    "    def __setitem__(self, key, value):\n",
    "        if key in self.data:\n",
    "            self.data[key].append(value)\n",
    "        else:\n",
    "            self.data[key] = [value]\n",
    "\n",
    "    def __getitem__(self, key):\n",
    "        result = str(self.data[key][0])\n",
    "        for value in self.data[key][1:]:\n",
    "            result += \", \" + str(value)\n",
    "        return result\n",
    "\n",
    "\n",
    "l_dict = ListedValuesDict()\n",
    "l_dict[1] = 'a'\n",
    "l_dict[1] = 'b'\n",
    "print(l_dict[1])    # a, b"
   ]
  },
  {
   "cell_type": "code",
   "execution_count": 1,
   "metadata": {},
   "outputs": [
    {
     "name": "stdout",
     "output_type": "stream",
     "text": [
      "login is manypresents\n"
     ]
    }
   ],
   "source": [
    "class User:\n",
    "\n",
    "    def __init__(self):\n",
    "        self._login = ''\n",
    "\n",
    "    def set_login(self, login_value):\n",
    "        if len(login_value) > 3:\n",
    "            self._login = login_value\n",
    "        else:\n",
    "            print('login must have at least 3 symbols')\n",
    "\n",
    "    def get_login(self):\n",
    "        return f'login is {self._login}'\n",
    "\n",
    "    def del_login(self):\n",
    "        del self._login\n",
    "\n",
    "    login = property(get_login, set_login, del_login)\n",
    "\n",
    "\n",
    "Yaroslav = User()\n",
    "Yaroslav.login = 'manypresents'\n",
    "print(Yaroslav.login)"
   ]
  },
  {
   "cell_type": "code",
   "execution_count": 5,
   "metadata": {},
   "outputs": [
    {
     "name": "stdout",
     "output_type": "stream",
     "text": [
      "2.50 uah\n",
      "2.5\n"
     ]
    }
   ],
   "source": [
    "class Cash:\n",
    "    def __init__(self, value):\n",
    "        self.value = value\n",
    "\n",
    "    @property\n",
    "    def formatted(self):\n",
    "        return '{:.2f} uah'.format(self.value)\n",
    "\n",
    "    @formatted.setter\n",
    "    def formatted(self, new):\n",
    "        self.value = float(new)\n",
    "\n",
    "money = Cash(2.5)\n",
    "print(money.formatted)\n",
    "print(money.value)"
   ]
  },
  {
   "cell_type": "code",
   "execution_count": 6,
   "metadata": {},
   "outputs": [
    {
     "name": "stdout",
     "output_type": "stream",
     "text": [
      "{1: 'a', 2: 'b', 3: 'c', 4: 'd'}\n",
      "{1: 'a', 2: 'b'}\n"
     ]
    }
   ],
   "source": [
    "from collections import UserDict\n",
    "\n",
    "\n",
    "class MyDict(UserDict):\n",
    "    def __add__(self, other):\n",
    "        self.data.update(other)\n",
    "        return self\n",
    "\n",
    "    def __sub__(self, other):\n",
    "        for key in other:\n",
    "            if key in other:\n",
    "                self.data.pop(key)\n",
    "        return self\n",
    "\n",
    "\n",
    "d1 = MyDict({1: 'a', 2: 'b'})\n",
    "d2 = MyDict({3: 'c', 4: 'd'})\n",
    "\n",
    "d3 = d1 + d2\n",
    "print(d3)   # {1: 'a', 2: 'b', 3: 'c', 4: 'd'}\n",
    "\n",
    "d4 = d3 - d2\n",
    "print(d4)   # {1: 'a', 2: 'b'}"
   ]
  },
  {
   "cell_type": "code",
   "execution_count": null,
   "metadata": {},
   "outputs": [],
   "source": [
    "class Point:\n",
    "    def __init__(self, x, y):\n",
    "        self.x = x\n",
    "        self.y = y\n",
    "\n",
    "    def __eq__(self, other):\n",
    "        return self.x == other.x and self.y == other.y\n",
    "\n",
    "    def __ne__(self, other):\n",
    "        return self.x != other.x or self.y != other.y\n",
    "\n",
    "    def __lt__(self, other):\n",
    "        return self.x < other.x and self.y < other.y\n",
    "\n",
    "    def __gt__(self, other):\n",
    "        return self.x > other.x and self.y > other.y\n",
    "\n",
    "    def __le__(self, other):\n",
    "        return self.x <= other.x and self.y <= other.y\n",
    "\n",
    "    def __ge__(self, other):\n",
    "        return self.x >= other.x and self.y >= other.y\n",
    "\n",
    "\n",
    "Point(0, 0) == Point(0, 0)  # True\n",
    "Point(0, 0) != Point(0, 0)  # False\n",
    "Point(0, 0) < Point(1, 0)   # False\n",
    "Point(0, 0) > Point(0, 1)   # False\n",
    "Point(0, 2) >= Point(0, 1)  # True\n",
    "Point(0, 0) <= Point(0, 0)  # True"
   ]
  },
  {
   "cell_type": "markdown",
   "metadata": {},
   "source": [
    "__eq__(self, other) — визначає поведінку під час перевірки на відповідність (==).\n",
    "__ne__(self, other) — визначає поведінку під час перевірки на невідповідність. !=.\n",
    "__lt__(self, other) — визначає поведінку під час перевірки на менше <.\n",
    "__gt__(self, other) — визначає поведінку під час перевірки на більше >.\n",
    "__le__(self, other) — визначає поведінку під час перевірки на менш-рівно <=.\n",
    "__ge__(self, other) — визначає поведінку під час перевірки на більш-рівно >=."
   ]
  }
 ],
 "metadata": {
  "interpreter": {
   "hash": "38740d3277777e2cd7c6c2cc9d8addf5118fdf3f82b1b39231fd12aeac8aee8b"
  },
  "kernelspec": {
   "display_name": "Python 3.10.1 64-bit",
   "language": "python",
   "name": "python3"
  },
  "language_info": {
   "codemirror_mode": {
    "name": "ipython",
    "version": 3
   },
   "file_extension": ".py",
   "mimetype": "text/x-python",
   "name": "python",
   "nbconvert_exporter": "python",
   "pygments_lexer": "ipython3",
   "version": "3.10.1"
  },
  "orig_nbformat": 4
 },
 "nbformat": 4,
 "nbformat_minor": 2
}
