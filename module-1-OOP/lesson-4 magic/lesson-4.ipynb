{
 "cells": [
  {
   "cell_type": "code",
   "execution_count": null,
   "metadata": {},
   "outputs": [],
   "source": [
    "class Human:\n",
    "    def __init__(self, name, age=10):\n",
    "        self.name = name\n",
    "        self.age = age\n",
    "\n",
    "    def say_hello(self):\n",
    "        return f'Hello! I am {self.name}'\n",
    "\n",
    "\n",
    "bill = Human('Bill')\n",
    "print(bill.say_hello())  # Hello! I am Bill\n",
    "print(bill.age)          # 10\n",
    "\n",
    "jill = Human('Jill', 20)\n",
    "print(jill.say_hello())  # Hello! I am Jill\n",
    "print(jill.age)          # 20"
   ]
  },
  {
   "cell_type": "code",
   "execution_count": 8,
   "metadata": {},
   "outputs": [
    {
     "data": {
      "text/plain": [
       "Point (x: 1; y: 9)"
      ]
     },
     "execution_count": 8,
     "metadata": {},
     "output_type": "execute_result"
    }
   ],
   "source": [
    "class Point:\n",
    "    def __init__(self, x, y):\n",
    "        self.x = x\n",
    "        self.y = y\n",
    "\n",
    "    def __repr__(self):\n",
    "        return f'Point (x: {self.x}; y: {self.y})'\n",
    "\n",
    "a = Point(1, 9)\n",
    "a\n"
   ]
  },
  {
   "cell_type": "code",
   "execution_count": null,
   "metadata": {},
   "outputs": [],
   "source": [
    "class Human:\n",
    "    def __init__(self, name, age=0):\n",
    "        self.name = name\n",
    "        self.age = age\n",
    "\n",
    "    def __str__(self):\n",
    "        return f'Hello! I am {self.name}'\n",
    "\n",
    "\n",
    "bill = Human('Bill')\n",
    "bill_str = str(bill)\n",
    "print(bill_str)  # Hello! I am Bill"
   ]
  },
  {
   "cell_type": "code",
   "execution_count": null,
   "metadata": {},
   "outputs": [],
   "source": [
    "class ListedValuesDict:\n",
    "    def __init__(self):\n",
    "        self.data = {}\n",
    "\n",
    "    def __setitem__(self, key, value):\n",
    "        if key in self.data:\n",
    "            self.data[key].append(value)\n",
    "        else:\n",
    "            self.data[key] = [value]\n",
    "\n",
    "    def __getitem__(self, key):\n",
    "        result = str(self.data[key][0])\n",
    "        for value in self.data[key][1:]:\n",
    "            result += \", \" + str(value)\n",
    "        return result\n",
    "\n",
    "\n",
    "l_dict = ListedValuesDict()\n",
    "l_dict[1] = 'a'\n",
    "l_dict[1] = 'b'\n",
    "print(l_dict[1])    # a, b"
   ]
  }
 ],
 "metadata": {
  "interpreter": {
   "hash": "38740d3277777e2cd7c6c2cc9d8addf5118fdf3f82b1b39231fd12aeac8aee8b"
  },
  "kernelspec": {
   "display_name": "Python 3.10.1 64-bit",
   "language": "python",
   "name": "python3"
  },
  "language_info": {
   "codemirror_mode": {
    "name": "ipython",
    "version": 3
   },
   "file_extension": ".py",
   "mimetype": "text/x-python",
   "name": "python",
   "nbconvert_exporter": "python",
   "pygments_lexer": "ipython3",
   "version": "3.10.1"
  },
  "orig_nbformat": 4
 },
 "nbformat": 4,
 "nbformat_minor": 2
}
